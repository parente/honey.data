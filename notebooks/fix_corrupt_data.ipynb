{
 "cells": [
  {
   "cell_type": "markdown",
   "metadata": {},
   "source": [
    "# Fix Corrupt Data\n",
    "\n",
    "I'm not exactly sure how data becomes corrupt yet. My best guess is that it happens when I power off the Pi at an inopportune moment. If it happens again, consider stripping invalid bytes during the log upload or at least warning and refusing to ship."
   ]
  },
  {
   "cell_type": "code",
   "execution_count": null,
   "metadata": {},
   "outputs": [],
   "source": [
    "import boto3"
   ]
  },
  {
   "cell_type": "code",
   "execution_count": null,
   "metadata": {},
   "outputs": [],
   "source": [
    "s3 = boto3.client('s3')"
   ]
  },
  {
   "cell_type": "code",
   "execution_count": null,
   "metadata": {},
   "outputs": [],
   "source": [
    "for day in range(28,29):\n",
    "    for hour in range(24):\n",
    "        key = f'incoming-rotations/year=2020/month=09/day={day:02}/2020-09-{day:02}-{hour:02}.csv'\n",
    "        try:\n",
    "            resp = s3.get_object(Bucket='honey-data', Key=key)\n",
    "        except:\n",
    "            continue\n",
    "        print(key)\n",
    "        body = resp['Body'].read()\n",
    "        if b'\\x00' in body:\n",
    "            print(body)\n",
    "            raise RuntimeError(f'{key} is CORRUPT')"
   ]
  },
  {
   "cell_type": "code",
   "execution_count": null,
   "metadata": {},
   "outputs": [],
   "source": [
    "s3.put_object(\n",
    "    Bucket='honey-data', \n",
    "    Key=f'incoming-rotations/year=2020/month=09/day={day:02}/2020-09-{day:02}-{hour:02}.csv', \n",
    "    Body=body.replace(b'\\x00', b'')\n",
    ")"
   ]
  },
  {
   "cell_type": "code",
   "execution_count": null,
   "metadata": {},
   "outputs": [],
   "source": [
    "resp = s3.get_object(Bucket='honey-data', \n",
    "                     Key=f'incoming-rotations/year=2020/month=09/day=14/2020-09-14-11.csv')"
   ]
  },
  {
   "cell_type": "code",
   "execution_count": null,
   "metadata": {},
   "outputs": [],
   "source": [
    "resp['Body'].read()"
   ]
  },
  {
   "cell_type": "code",
   "execution_count": null,
   "metadata": {},
   "outputs": [],
   "source": []
  }
 ],
 "metadata": {
  "kernelspec": {
   "display_name": "Python 3",
   "language": "python",
   "name": "python3"
  },
  "language_info": {
   "codemirror_mode": {
    "name": "ipython",
    "version": 3
   },
   "file_extension": ".py",
   "mimetype": "text/x-python",
   "name": "python",
   "nbconvert_exporter": "python",
   "pygments_lexer": "ipython3",
   "version": "3.8.5"
  }
 },
 "nbformat": 4,
 "nbformat_minor": 4
}
